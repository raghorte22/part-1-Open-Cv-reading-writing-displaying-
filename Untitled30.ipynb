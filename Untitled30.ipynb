{
 "cells": [
  {
   "cell_type": "markdown",
   "id": "6b41fc9a",
   "metadata": {},
   "source": [
    "### Reading, writing and displaying images with OpenCV\n",
    "Let's start by importing the OpenCV libary"
   ]
  },
  {
   "cell_type": "code",
   "execution_count": 1,
   "id": "3503efb4",
   "metadata": {},
   "outputs": [],
   "source": [
    "# Press CTRL + ENTER to run this line\n",
    "# You should see an * between the [ ] on the left\n",
    "# OpenCV takes a couple seconds to import the first time\n",
    "\n",
    "import cv2"
   ]
  },
  {
   "cell_type": "code",
   "execution_count": 2,
   "id": "43779499",
   "metadata": {},
   "outputs": [],
   "source": [
    "# Now let's import numpy\n",
    "# We use as np, so that everything we call on numpy, we can type np instead\n",
    "# It's short and looks neater\n",
    "\n",
    "import numpy as np "
   ]
  },
  {
   "cell_type": "code",
   "execution_count": 3,
   "id": "6c1e8a3b",
   "metadata": {},
   "outputs": [],
   "source": [
    "# We don't need to do this again, but it's a good habit\n",
    "import cv2 \n",
    "\n",
    "# Load an image using 'imread' specifying the path to image\n",
    "input=cv2.imread(r\"D:\\Data Science with AI\\face\\open cv with haar cascade\\peacock image.jpg\")\n",
    "\n"
   ]
  },
  {
   "cell_type": "code",
   "execution_count": 4,
   "id": "ba993e70",
   "metadata": {},
   "outputs": [],
   "source": [
    "# Our file 'input.jpg' is now loaded and stored in python \n",
    "# as a varaible we named 'image'\n",
    "\n",
    "# To display our image variable, we use 'imshow'\n",
    "# The first parameter will be title shown on image window\n",
    "# The second parameter is the image varialbe\n",
    "cv2.imshow('Test my image',input)\n",
    "\n",
    "# 'waitKey' allows us to input information when a image window is open\n",
    "# By leaving it blank it just waits for anykey to be pressed before \n",
    "# continuing. By placing numbers (except 0), we can specify a delay for\n",
    "# how long you keep the window open (time is in milliseconds here)\n",
    "cv2.waitKey()\n",
    "\n",
    "# This closes all open windows \n",
    "# Failure to place this will cause your program to hang\n",
    "cv2.destroyAllWindows()"
   ]
  },
  {
   "cell_type": "markdown",
   "id": "8ede8e95",
   "metadata": {},
   "source": [
    "### lets take a closer look at how images are stored"
   ]
  },
  {
   "cell_type": "code",
   "execution_count": 5,
   "id": "d8428db5",
   "metadata": {},
   "outputs": [],
   "source": [
    "#import numpy\n",
    "import numpy as np"
   ]
  },
  {
   "cell_type": "code",
   "execution_count": 6,
   "id": "c43266fe",
   "metadata": {},
   "outputs": [
    {
     "name": "stdout",
     "output_type": "stream",
     "text": [
      "(408, 612, 3)\n"
     ]
    }
   ],
   "source": [
    "print(input.shape)"
   ]
  },
  {
   "cell_type": "markdown",
   "id": "e6d36074",
   "metadata": {},
   "source": [
    "### shape gives the dimensions of the image array"
   ]
  },
  {
   "cell_type": "markdown",
   "id": "bb1ec586",
   "metadata": {},
   "source": [
    "the 2d dimensions are 830 pixels in high bv 1245 pixels wide. the '3L' means that there are 3 other components (RGB)that make up this image"
   ]
  },
  {
   "cell_type": "code",
   "execution_count": 7,
   "id": "102290f8",
   "metadata": {},
   "outputs": [
    {
     "name": "stdout",
     "output_type": "stream",
     "text": [
      "Height of image: 408 pixels\n",
      "Width of image: 612 pixels\n"
     ]
    }
   ],
   "source": [
    "# lets print each dimensions of the image \n",
    "\n",
    "print('Height of image:' ,int(input.shape[0]),'pixels')\n",
    "print('Width of image:' , int(input.shape[1]), 'pixels')"
   ]
  },
  {
   "cell_type": "markdown",
   "id": "2dbc5c26",
   "metadata": {},
   "source": [
    "### how do we save images we edit in opencv?\n"
   ]
  },
  {
   "cell_type": "code",
   "execution_count": 8,
   "id": "31dc3bca",
   "metadata": {},
   "outputs": [
    {
     "data": {
      "text/plain": [
       "True"
      ]
     },
     "execution_count": 8,
     "metadata": {},
     "output_type": "execute_result"
    }
   ],
   "source": [
    "# simply use 'imwrite' specificing the file name and the image to be saved \n",
    "\n",
    "cv2.imwrite('output.jpg', input)\n",
    "cv2.imwrite('output.png', input)"
   ]
  },
  {
   "cell_type": "code",
   "execution_count": null,
   "id": "35009518",
   "metadata": {},
   "outputs": [],
   "source": []
  }
 ],
 "metadata": {
  "kernelspec": {
   "display_name": "Python 3 (ipykernel)",
   "language": "python",
   "name": "python3"
  },
  "language_info": {
   "codemirror_mode": {
    "name": "ipython",
    "version": 3
   },
   "file_extension": ".py",
   "mimetype": "text/x-python",
   "name": "python",
   "nbconvert_exporter": "python",
   "pygments_lexer": "ipython3",
   "version": "3.11.5"
  }
 },
 "nbformat": 4,
 "nbformat_minor": 5
}
